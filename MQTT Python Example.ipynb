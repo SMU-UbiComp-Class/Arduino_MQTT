{
 "cells": [
  {
   "cell_type": "code",
   "execution_count": null,
   "metadata": {
    "collapsed": false
   },
   "outputs": [],
   "source": [
    "# use command line to make sure services are started\n",
    "!brew services start mosquitto"
   ]
  },
  {
   "cell_type": "code",
   "execution_count": null,
   "metadata": {
    "collapsed": false
   },
   "outputs": [],
   "source": [
    "# use command line to make sure services are stopped\n",
    "!brew services stop mosquitto"
   ]
  },
  {
   "cell_type": "code",
   "execution_count": null,
   "metadata": {
    "collapsed": false
   },
   "outputs": [],
   "source": [
    "# get ip address of laptop\n",
    "!ifconfig |grep \"inet \""
   ]
  },
  {
   "cell_type": "code",
   "execution_count": null,
   "metadata": {
    "collapsed": false
   },
   "outputs": [],
   "source": [
    "import paho.mqtt.client as mqtt\n",
    "import numpy as np\n",
    "\n",
    "\n",
    "# The callback for when the client receives a CONNACK response from the server.\n",
    "def on_connect(client, userdata, rc):\n",
    "    print(\"Connected with result code \"+str(rc))\n",
    "    # Subscribing in on_connect() means that if we lose the connection and\n",
    "    # reconnect then subscriptions will be renewed.\n",
    "    client.subscribe(\"$ubicomp/#\")\n",
    "\n",
    "# The callback for when a PUBLISH message is received from the server.\n",
    "def on_message(client, userdata, msg):\n",
    "    \n",
    "    if '$ubicomp/' not in msg.topic:\n",
    "        return \n",
    "    \n",
    "    team = msg.topic[9:]\n",
    "    msg = msg.payload\n",
    "    \n",
    "    print('Received', msg, 'from team',team)\n",
    "    \n",
    "    # now let's send something that this team might be \n",
    "    # subscribed to (randomly)\n",
    "    if np.random.rand() > 0.5:\n",
    "        # now send something useless!\n",
    "        client.publish(topic='$SYS/Eric',payload='Hello There!')\n",
    "    \n",
    "\n",
    "client = mqtt.Client()\n",
    "client.on_connect = on_connect\n",
    "client.on_message = on_message\n",
    "\n",
    "client.connect(\"localhost\", 1883, 60)\n",
    "\n",
    "# Blocking call that processes network traffic, dispatches callbacks and\n",
    "# handles reconnecting.\n",
    "# Other loop*() functions are available that give a threaded interface and a\n",
    "# manual interface.\n",
    "client.loop_forever()"
   ]
  },
  {
   "cell_type": "code",
   "execution_count": null,
   "metadata": {
    "collapsed": false
   },
   "outputs": [],
   "source": [
    "import paho.mqtt.client as mqtt\n",
    "from ringbuffer import RingBuffer\n",
    "import numpy as np\n",
    "import matplotlib\n",
    "from matplotlib import pyplot as plt\n",
    "from matplotlib import animation\n",
    "from matplotlib.lines import Line2D\n",
    "%matplotlib notebook\n",
    "\n",
    "BUFFER_SIZE = 10\n",
    "data = {} \n",
    "\n",
    "# setup the figure to plot with\n",
    "fig, ax1 = plt.subplots(1,1)\n",
    "# setup the plot\n",
    "ax1.set_xlim(0, BUFFER_SIZE)\n",
    "ax1.set_ylim(0, 4096)\n",
    "\n",
    "# The callback for when the client receives a CONNACK response from the server.\n",
    "def on_connect(client, userdata, rc):\n",
    "    print(\"Connected with result code \"+str(rc))\n",
    "    # Subscribing in on_connect() means that if we lose the connection and\n",
    "    # reconnect then subscriptions will be renewed.\n",
    "    client.subscribe(\"$ubicomp/#\")\n",
    "\n",
    "# The callback for when a PUBLISH message is received from the server.\n",
    "def on_message(client, userdata, msg):\n",
    "    \n",
    "    if '$ubicomp/' not in msg.topic:\n",
    "        return \n",
    "    \n",
    "    team = msg.topic[9:]\n",
    "    payload = msg.payload\n",
    "    \n",
    "    # now let's send something that this team might be \n",
    "    # subscribed to (randomly)\n",
    "    if np.random.rand() > 0.5:\n",
    "        val = 'OFF' if np.random.rand() > 0.5 else 'ON'\n",
    "        client.publish(topic='$'+team,payload='LED '+val)\n",
    "    \n",
    "    if team not in data:\n",
    "        data[team] = {}\n",
    "        data[team]['buffer'] = RingBuffer(BUFFER_SIZE)\n",
    "        data[team]['line'], = plt.plot(data[team]['buffer'].get_samples,label=team)\n",
    "    \n",
    "    data[team]['buffer'].insert_new(np.array(int(payload)))\n",
    "    line1 = data[team]['line']\n",
    "    ydata = data[team]['buffer'].get_samples\n",
    "    line1.set_xdata(np.linspace(1,BUFFER_SIZE-1,BUFFER_SIZE))\n",
    "    line1.set_ydata(ydata)  # set the data\n",
    "    plt.draw()  # and draw it out\n",
    "    plt.legend()\n",
    "    fig.canvas.draw()  # pause so that the drawing updates \n",
    "\n",
    "client = mqtt.Client()\n",
    "client.on_connect = on_connect\n",
    "client.on_message = on_message\n",
    "\n",
    "client.connect(\"localhost\", 1883, 60)\n",
    "\n",
    "# Blocking call that processes network traffic, dispatches callbacks and\n",
    "# handles reconnecting.\n",
    "# Other loop*() functions are available that give a threaded interface and a\n",
    "# manual interface.\n",
    "client.loop_forever()"
   ]
  },
  {
   "cell_type": "code",
   "execution_count": null,
   "metadata": {
    "collapsed": false
   },
   "outputs": [],
   "source": [
    "client.disconnect()"
   ]
  },
  {
   "cell_type": "code",
   "execution_count": null,
   "metadata": {
    "collapsed": true
   },
   "outputs": [],
   "source": []
  },
  {
   "cell_type": "code",
   "execution_count": null,
   "metadata": {
    "collapsed": true
   },
   "outputs": [],
   "source": []
  }
 ],
 "metadata": {
  "anaconda-cloud": {},
  "kernelspec": {
   "display_name": "Python [conda env:ubicomp]",
   "language": "python",
   "name": "conda-env-ubicomp-py"
  },
  "language_info": {
   "codemirror_mode": {
    "name": "ipython",
    "version": 3
   },
   "file_extension": ".py",
   "mimetype": "text/x-python",
   "name": "python",
   "nbconvert_exporter": "python",
   "pygments_lexer": "ipython3",
   "version": "3.6.0"
  }
 },
 "nbformat": 4,
 "nbformat_minor": 2
}
